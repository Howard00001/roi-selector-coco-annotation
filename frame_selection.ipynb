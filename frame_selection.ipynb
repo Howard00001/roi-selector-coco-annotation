{
 "cells": [
  {
   "cell_type": "markdown",
   "metadata": {},
   "source": [
    "# random frame sample generate"
   ]
  },
  {
   "cell_type": "code",
   "execution_count": 1,
   "metadata": {},
   "outputs": [],
   "source": [
    "import os\n",
    "import numpy as np\n",
    "from deeplabcut.utils.frameselectiontools import KmeansbasedFrameselectioncv2\n",
    "from deeplabcut.utils.auxfun_videos import VideoReader\n",
    "from skimage.util import img_as_ubyte\n",
    "from skimage import io\n"
   ]
  },
  {
   "cell_type": "code",
   "execution_count": 2,
   "metadata": {},
   "outputs": [],
   "source": [
    "output_path = './imgsel3/'\n",
    "if not os.path.isdir(output_path):\n",
    "    os.makedirs(output_path)"
   ]
  },
  {
   "cell_type": "code",
   "execution_count": 3,
   "metadata": {},
   "outputs": [],
   "source": [
    "def vid_select_frames(video, i):\n",
    "    cap = VideoReader(video)\n",
    "    numframes2pick = 10\n",
    "    start=0\n",
    "    stop=1\n",
    "    crop=False\n",
    "    coords=None\n",
    "    cluster_step=1\n",
    "    cluster_resizewidth=30\n",
    "    cluster_color=False\n",
    "\n",
    "\n",
    "    frames2pick = KmeansbasedFrameselectioncv2(\n",
    "        cap,\n",
    "        numframes2pick,\n",
    "        start,\n",
    "        stop,\n",
    "        crop,\n",
    "        coords,\n",
    "        step=cluster_step,\n",
    "        resizewidth=cluster_resizewidth,\n",
    "        color=cluster_color,\n",
    "    )\n",
    "\n",
    "    j=0\n",
    "    for index in frames2pick:\n",
    "        cap.set_to_frame(index)  # extract a particular frame\n",
    "        frame = cap.read_frame()\n",
    "        if frame is not None:\n",
    "            image = img_as_ubyte(frame)\n",
    "            img_name = (\n",
    "                str(output_path)\n",
    "                + str(i+j)\n",
    "                + \".jpg\"\n",
    "            )\n",
    "            io.imsave(img_name, image)\n",
    "        else:\n",
    "            print(\"Frame\", index, \" not found!\")\n",
    "        j+=1\n",
    "    i=j\n",
    "    cap.close()\n",
    "    return i"
   ]
  },
  {
   "cell_type": "code",
   "execution_count": 4,
   "metadata": {},
   "outputs": [
    {
     "name": "stdout",
     "output_type": "stream",
     "text": [
      "Kmeans-quantization based extracting of frames from 0.0  seconds to 264.13  seconds.\n",
      "Extracting and downsampling... 7924  frames from the video.\n"
     ]
    },
    {
     "name": "stderr",
     "output_type": "stream",
     "text": [
      "7924it [00:01, 4194.85it/s]\n"
     ]
    },
    {
     "name": "stdout",
     "output_type": "stream",
     "text": [
      "Kmeans clustering ... (this might take a while)\n",
      "Kmeans-quantization based extracting of frames from 0.0  seconds to 248.47  seconds.\n",
      "Extracting and downsampling... 7454  frames from the video.\n"
     ]
    },
    {
     "name": "stderr",
     "output_type": "stream",
     "text": [
      "7454it [00:01, 4125.55it/s]\n"
     ]
    },
    {
     "name": "stdout",
     "output_type": "stream",
     "text": [
      "Kmeans clustering ... (this might take a while)\n",
      "Kmeans-quantization based extracting of frames from 0.0  seconds to 234.2  seconds.\n",
      "Extracting and downsampling... 7026  frames from the video.\n"
     ]
    },
    {
     "name": "stderr",
     "output_type": "stream",
     "text": [
      "7026it [00:01, 4134.52it/s]\n"
     ]
    },
    {
     "name": "stdout",
     "output_type": "stream",
     "text": [
      "Kmeans clustering ... (this might take a while)\n",
      "Kmeans-quantization based extracting of frames from 0.0  seconds to 265.93  seconds.\n",
      "Extracting and downsampling... 7978  frames from the video.\n"
     ]
    },
    {
     "name": "stderr",
     "output_type": "stream",
     "text": [
      "7978it [00:01, 4046.89it/s]\n"
     ]
    },
    {
     "name": "stdout",
     "output_type": "stream",
     "text": [
      "Kmeans clustering ... (this might take a while)\n",
      "Kmeans-quantization based extracting of frames from 0.0  seconds to 528.83  seconds.\n",
      "Extracting and downsampling... 15865  frames from the video.\n"
     ]
    },
    {
     "name": "stderr",
     "output_type": "stream",
     "text": [
      "15865it [00:03, 4113.52it/s]\n"
     ]
    },
    {
     "name": "stdout",
     "output_type": "stream",
     "text": [
      "Kmeans clustering ... (this might take a while)\n",
      "Kmeans-quantization based extracting of frames from 0.0  seconds to 289.37  seconds.\n",
      "Extracting and downsampling... 8681  frames from the video.\n"
     ]
    },
    {
     "name": "stderr",
     "output_type": "stream",
     "text": [
      "8681it [00:02, 4020.25it/s]\n"
     ]
    },
    {
     "name": "stdout",
     "output_type": "stream",
     "text": [
      "Kmeans clustering ... (this might take a while)\n",
      "Kmeans-quantization based extracting of frames from 0.0  seconds to 265.2  seconds.\n",
      "Extracting and downsampling... 7956  frames from the video.\n"
     ]
    },
    {
     "name": "stderr",
     "output_type": "stream",
     "text": [
      "7956it [00:01, 4031.97it/s]\n"
     ]
    },
    {
     "name": "stdout",
     "output_type": "stream",
     "text": [
      "Kmeans clustering ... (this might take a while)\n",
      "Kmeans-quantization based extracting of frames from 0.0  seconds to 300.27  seconds.\n",
      "Extracting and downsampling... 9008  frames from the video.\n"
     ]
    },
    {
     "name": "stderr",
     "output_type": "stream",
     "text": [
      "9008it [00:02, 3924.44it/s]\n"
     ]
    },
    {
     "name": "stdout",
     "output_type": "stream",
     "text": [
      "Kmeans clustering ... (this might take a while)\n",
      "Kmeans-quantization based extracting of frames from 0.0  seconds to 198.73  seconds.\n",
      "Extracting and downsampling... 5962  frames from the video.\n"
     ]
    },
    {
     "name": "stderr",
     "output_type": "stream",
     "text": [
      "5962it [00:01, 3837.72it/s]\n"
     ]
    },
    {
     "name": "stdout",
     "output_type": "stream",
     "text": [
      "Kmeans clustering ... (this might take a while)\n",
      "Kmeans-quantization based extracting of frames from 0.0  seconds to 251.8  seconds.\n",
      "Extracting and downsampling... 7554  frames from the video.\n"
     ]
    },
    {
     "name": "stderr",
     "output_type": "stream",
     "text": [
      "7554it [00:01, 3962.05it/s]\n"
     ]
    },
    {
     "name": "stdout",
     "output_type": "stream",
     "text": [
      "Kmeans clustering ... (this might take a while)\n",
      "Kmeans-quantization based extracting of frames from 0.0  seconds to 316.1  seconds.\n",
      "Extracting and downsampling... 9483  frames from the video.\n"
     ]
    },
    {
     "name": "stderr",
     "output_type": "stream",
     "text": [
      "9483it [00:02, 3955.33it/s]\n"
     ]
    },
    {
     "name": "stdout",
     "output_type": "stream",
     "text": [
      "Kmeans clustering ... (this might take a while)\n",
      "Kmeans-quantization based extracting of frames from 0.0  seconds to 267.83  seconds.\n",
      "Extracting and downsampling... 8035  frames from the video.\n"
     ]
    },
    {
     "name": "stderr",
     "output_type": "stream",
     "text": [
      "8035it [00:01, 4103.25it/s]\n"
     ]
    },
    {
     "name": "stdout",
     "output_type": "stream",
     "text": [
      "Kmeans clustering ... (this might take a while)\n",
      "Kmeans-quantization based extracting of frames from 0.0  seconds to 204.23  seconds.\n",
      "Extracting and downsampling... 6127  frames from the video.\n"
     ]
    },
    {
     "name": "stderr",
     "output_type": "stream",
     "text": [
      "6127it [00:01, 3949.31it/s]\n"
     ]
    },
    {
     "name": "stdout",
     "output_type": "stream",
     "text": [
      "Kmeans clustering ... (this might take a while)\n",
      "Kmeans-quantization based extracting of frames from 0.0  seconds to 234.17  seconds.\n",
      "Extracting and downsampling... 7025  frames from the video.\n"
     ]
    },
    {
     "name": "stderr",
     "output_type": "stream",
     "text": [
      "7025it [00:01, 3681.45it/s]\n"
     ]
    },
    {
     "name": "stdout",
     "output_type": "stream",
     "text": [
      "Kmeans clustering ... (this might take a while)\n",
      "Kmeans-quantization based extracting of frames from 0.0  seconds to 278.03  seconds.\n",
      "Extracting and downsampling... 8341  frames from the video.\n"
     ]
    },
    {
     "name": "stderr",
     "output_type": "stream",
     "text": [
      "8341it [00:02, 3956.79it/s]\n"
     ]
    },
    {
     "name": "stdout",
     "output_type": "stream",
     "text": [
      "Kmeans clustering ... (this might take a while)\n",
      "Kmeans-quantization based extracting of frames from 0.0  seconds to 268.23  seconds.\n",
      "Extracting and downsampling... 8047  frames from the video.\n"
     ]
    },
    {
     "name": "stderr",
     "output_type": "stream",
     "text": [
      "8047it [00:01, 4084.54it/s]\n"
     ]
    },
    {
     "name": "stdout",
     "output_type": "stream",
     "text": [
      "Kmeans clustering ... (this might take a while)\n",
      "Kmeans-quantization based extracting of frames from 0.0  seconds to 264.43  seconds.\n",
      "Extracting and downsampling... 7933  frames from the video.\n"
     ]
    },
    {
     "name": "stderr",
     "output_type": "stream",
     "text": [
      "7933it [00:01, 4114.31it/s]\n"
     ]
    },
    {
     "name": "stdout",
     "output_type": "stream",
     "text": [
      "Kmeans clustering ... (this might take a while)\n",
      "Kmeans-quantization based extracting of frames from 0.0  seconds to 270.63  seconds.\n",
      "Extracting and downsampling... 8119  frames from the video.\n"
     ]
    },
    {
     "name": "stderr",
     "output_type": "stream",
     "text": [
      "8119it [00:01, 4178.58it/s]\n"
     ]
    },
    {
     "name": "stdout",
     "output_type": "stream",
     "text": [
      "Kmeans clustering ... (this might take a while)\n",
      "Kmeans-quantization based extracting of frames from 0.0  seconds to 264.6  seconds.\n",
      "Extracting and downsampling... 7938  frames from the video.\n"
     ]
    },
    {
     "name": "stderr",
     "output_type": "stream",
     "text": [
      "7938it [00:01, 4008.47it/s]\n"
     ]
    },
    {
     "name": "stdout",
     "output_type": "stream",
     "text": [
      "Kmeans clustering ... (this might take a while)\n",
      "Kmeans-quantization based extracting of frames from 0.0  seconds to 255.9  seconds.\n",
      "Extracting and downsampling... 7677  frames from the video.\n"
     ]
    },
    {
     "name": "stderr",
     "output_type": "stream",
     "text": [
      "7677it [00:02, 2807.67it/s]\n"
     ]
    },
    {
     "name": "stdout",
     "output_type": "stream",
     "text": [
      "Kmeans clustering ... (this might take a while)\n"
     ]
    }
   ],
   "source": [
    "i=0\n",
    "for root,dirs,files in os.walk('G:/mice/dataset/video/topC/20210908'):\n",
    "    root = root.replace('\\\\','/')+'/'\n",
    "    for video in files:\n",
    "        if video.find('_depth') == -1:\n",
    "            continue\n",
    "        i += vid_select_frames(root+video,i)\n",
    "    "
   ]
  },
  {
   "cell_type": "code",
   "execution_count": null,
   "metadata": {},
   "outputs": [],
   "source": []
  }
 ],
 "metadata": {
  "interpreter": {
   "hash": "427e15da974dacaac032d6b1b5dd1b5a68623ba727031e9dd0f7f9e9fda05558"
  },
  "kernelspec": {
   "display_name": "Python 3.8.12 ('micelab')",
   "language": "python",
   "name": "python3"
  },
  "language_info": {
   "codemirror_mode": {
    "name": "ipython",
    "version": 3
   },
   "file_extension": ".py",
   "mimetype": "text/x-python",
   "name": "python",
   "nbconvert_exporter": "python",
   "pygments_lexer": "ipython3",
   "version": "3.8.12"
  },
  "orig_nbformat": 4
 },
 "nbformat": 4,
 "nbformat_minor": 2
}
